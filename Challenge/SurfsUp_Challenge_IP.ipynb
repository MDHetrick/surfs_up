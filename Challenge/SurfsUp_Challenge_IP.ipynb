{
 "cells": [
  {
   "cell_type": "code",
   "execution_count": 1,
   "metadata": {},
   "outputs": [],
   "source": [
    "# Dependencies\n",
    "import numpy as np\n",
    "import pandas as pd\n",
    "\n",
    "# Python SQL toolkit and Object Relational Mapper\n",
    "import sqlalchemy\n",
    "from sqlalchemy.ext.automap import automap_base\n",
    "from sqlalchemy.orm import Session\n",
    "from sqlalchemy import create_engine, func\n",
    "\n",
    "import matplotlib.pyplot as plt\n",
    "\n",
    "%matplotlib inline"
   ]
  },
  {
   "cell_type": "code",
   "execution_count": 2,
   "metadata": {},
   "outputs": [],
   "source": [
    "engine = create_engine(\"sqlite:///hawaii.sqlite\")\n",
    "\n",
    "# reflect an existing database into a new model\n",
    "Base = automap_base()\n",
    "# reflect the tables\n",
    "Base.prepare(engine, reflect=True)\n",
    "\n",
    "# Save references to each table\n",
    "Measurement = Base.classes.measurement\n",
    "Station = Base.classes.station"
   ]
  },
  {
   "cell_type": "code",
   "execution_count": 3,
   "metadata": {},
   "outputs": [],
   "source": [
    "# Create our session (link) from Python to the DB\n",
    "session = Session(engine)"
   ]
  },
  {
   "cell_type": "markdown",
   "metadata": {},
   "source": [
    "## D1: Determine the Summary Statistics for June"
   ]
  },
  {
   "cell_type": "code",
   "execution_count": 4,
   "metadata": {},
   "outputs": [],
   "source": [
    "# 1. Import the sqlalchemy extract function.\n",
    "from sqlalchemy import extract\n",
    "\n",
    "# 2. Write a query that filters the Measurement table to retrieve the temperatures for the month of June. \n",
    "June_temps = session.query(Measurement.tobs).filter(Measurement.tobs).\\\n",
    "    filter(func.strftime(\"%m\", Measurement.date) == \"06\").all()\n"
   ]
  },
  {
   "cell_type": "code",
   "execution_count": 5,
   "metadata": {},
   "outputs": [],
   "source": [
    "#  3. Convert the June temperatures to a list.\n",
    "June_temps = list(np.ravel(June_temps))\n"
   ]
  },
  {
   "cell_type": "code",
   "execution_count": 6,
   "metadata": {},
   "outputs": [
    {
     "data": {
      "text/html": [
       "<div>\n",
       "<style scoped>\n",
       "    .dataframe tbody tr th:only-of-type {\n",
       "        vertical-align: middle;\n",
       "    }\n",
       "\n",
       "    .dataframe tbody tr th {\n",
       "        vertical-align: top;\n",
       "    }\n",
       "\n",
       "    .dataframe thead th {\n",
       "        text-align: right;\n",
       "    }\n",
       "</style>\n",
       "<table border=\"1\" class=\"dataframe\">\n",
       "  <thead>\n",
       "    <tr style=\"text-align: right;\">\n",
       "      <th></th>\n",
       "      <th>June Temps</th>\n",
       "    </tr>\n",
       "  </thead>\n",
       "  <tbody>\n",
       "    <tr>\n",
       "      <th>0</th>\n",
       "      <td>78.0</td>\n",
       "    </tr>\n",
       "    <tr>\n",
       "      <th>1</th>\n",
       "      <td>76.0</td>\n",
       "    </tr>\n",
       "    <tr>\n",
       "      <th>2</th>\n",
       "      <td>78.0</td>\n",
       "    </tr>\n",
       "    <tr>\n",
       "      <th>3</th>\n",
       "      <td>76.0</td>\n",
       "    </tr>\n",
       "    <tr>\n",
       "      <th>4</th>\n",
       "      <td>77.0</td>\n",
       "    </tr>\n",
       "  </tbody>\n",
       "</table>\n",
       "</div>"
      ],
      "text/plain": [
       "   June Temps\n",
       "0        78.0\n",
       "1        76.0\n",
       "2        78.0\n",
       "3        76.0\n",
       "4        77.0"
      ]
     },
     "execution_count": 6,
     "metadata": {},
     "output_type": "execute_result"
    }
   ],
   "source": [
    "# 4. Create a DataFrame from the list of temperatures for the month of June. \n",
    "June_temps_df = pd.DataFrame(June_temps, columns=['June Temps'])\n",
    "June_temps_df.head()"
   ]
  },
  {
   "cell_type": "code",
   "execution_count": 7,
   "metadata": {},
   "outputs": [
    {
     "data": {
      "text/html": [
       "<div>\n",
       "<style scoped>\n",
       "    .dataframe tbody tr th:only-of-type {\n",
       "        vertical-align: middle;\n",
       "    }\n",
       "\n",
       "    .dataframe tbody tr th {\n",
       "        vertical-align: top;\n",
       "    }\n",
       "\n",
       "    .dataframe thead th {\n",
       "        text-align: right;\n",
       "    }\n",
       "</style>\n",
       "<table border=\"1\" class=\"dataframe\">\n",
       "  <thead>\n",
       "    <tr style=\"text-align: right;\">\n",
       "      <th></th>\n",
       "      <th>June Temps</th>\n",
       "    </tr>\n",
       "  </thead>\n",
       "  <tbody>\n",
       "    <tr>\n",
       "      <th>count</th>\n",
       "      <td>1700.00</td>\n",
       "    </tr>\n",
       "    <tr>\n",
       "      <th>mean</th>\n",
       "      <td>74.94</td>\n",
       "    </tr>\n",
       "    <tr>\n",
       "      <th>std</th>\n",
       "      <td>3.26</td>\n",
       "    </tr>\n",
       "    <tr>\n",
       "      <th>min</th>\n",
       "      <td>64.00</td>\n",
       "    </tr>\n",
       "    <tr>\n",
       "      <th>25%</th>\n",
       "      <td>73.00</td>\n",
       "    </tr>\n",
       "    <tr>\n",
       "      <th>50%</th>\n",
       "      <td>75.00</td>\n",
       "    </tr>\n",
       "    <tr>\n",
       "      <th>75%</th>\n",
       "      <td>77.00</td>\n",
       "    </tr>\n",
       "    <tr>\n",
       "      <th>max</th>\n",
       "      <td>85.00</td>\n",
       "    </tr>\n",
       "  </tbody>\n",
       "</table>\n",
       "</div>"
      ],
      "text/plain": [
       "       June Temps\n",
       "count     1700.00\n",
       "mean        74.94\n",
       "std          3.26\n",
       "min         64.00\n",
       "25%         73.00\n",
       "50%         75.00\n",
       "75%         77.00\n",
       "max         85.00"
      ]
     },
     "execution_count": 7,
     "metadata": {},
     "output_type": "execute_result"
    }
   ],
   "source": [
    "# 5. Calculate and print out the summary statistics for the June temperature DataFrame.\n",
    "June_temps_df.describe().round(2)"
   ]
  },
  {
   "cell_type": "markdown",
   "metadata": {},
   "source": [
    "## D2: Determine the Summary Statistics for December"
   ]
  },
  {
   "cell_type": "code",
   "execution_count": 8,
   "metadata": {},
   "outputs": [],
   "source": [
    "# 6. Write a query that filters the Measurement table to retrieve the temperatures for the month of December.\n",
    "Dec_temps = session.query(Measurement.tobs).filter(Measurement.tobs).\\\n",
    "    filter(func.strftime(\"%m\", Measurement.date) == \"12\").all()\n"
   ]
  },
  {
   "cell_type": "code",
   "execution_count": 9,
   "metadata": {},
   "outputs": [],
   "source": [
    "# 7. Convert the December temperatures to a list.\n",
    "Dec_temps = list(np.ravel(Dec_temps))"
   ]
  },
  {
   "cell_type": "code",
   "execution_count": 10,
   "metadata": {
    "scrolled": true
   },
   "outputs": [
    {
     "data": {
      "text/html": [
       "<div>\n",
       "<style scoped>\n",
       "    .dataframe tbody tr th:only-of-type {\n",
       "        vertical-align: middle;\n",
       "    }\n",
       "\n",
       "    .dataframe tbody tr th {\n",
       "        vertical-align: top;\n",
       "    }\n",
       "\n",
       "    .dataframe thead th {\n",
       "        text-align: right;\n",
       "    }\n",
       "</style>\n",
       "<table border=\"1\" class=\"dataframe\">\n",
       "  <thead>\n",
       "    <tr style=\"text-align: right;\">\n",
       "      <th></th>\n",
       "      <th>December Temps</th>\n",
       "    </tr>\n",
       "  </thead>\n",
       "  <tbody>\n",
       "    <tr>\n",
       "      <th>0</th>\n",
       "      <td>76.0</td>\n",
       "    </tr>\n",
       "    <tr>\n",
       "      <th>1</th>\n",
       "      <td>74.0</td>\n",
       "    </tr>\n",
       "    <tr>\n",
       "      <th>2</th>\n",
       "      <td>74.0</td>\n",
       "    </tr>\n",
       "    <tr>\n",
       "      <th>3</th>\n",
       "      <td>64.0</td>\n",
       "    </tr>\n",
       "    <tr>\n",
       "      <th>4</th>\n",
       "      <td>64.0</td>\n",
       "    </tr>\n",
       "  </tbody>\n",
       "</table>\n",
       "</div>"
      ],
      "text/plain": [
       "   December Temps\n",
       "0            76.0\n",
       "1            74.0\n",
       "2            74.0\n",
       "3            64.0\n",
       "4            64.0"
      ]
     },
     "execution_count": 10,
     "metadata": {},
     "output_type": "execute_result"
    }
   ],
   "source": [
    "# 8. Create a DataFrame from the list of temperatures for the month of December. \n",
    "Dec_temps_df = pd.DataFrame(Dec_temps, columns=['December Temps'])\n",
    "Dec_temps_df.head()\n"
   ]
  },
  {
   "cell_type": "code",
   "execution_count": 11,
   "metadata": {},
   "outputs": [
    {
     "data": {
      "text/html": [
       "<div>\n",
       "<style scoped>\n",
       "    .dataframe tbody tr th:only-of-type {\n",
       "        vertical-align: middle;\n",
       "    }\n",
       "\n",
       "    .dataframe tbody tr th {\n",
       "        vertical-align: top;\n",
       "    }\n",
       "\n",
       "    .dataframe thead th {\n",
       "        text-align: right;\n",
       "    }\n",
       "</style>\n",
       "<table border=\"1\" class=\"dataframe\">\n",
       "  <thead>\n",
       "    <tr style=\"text-align: right;\">\n",
       "      <th></th>\n",
       "      <th>December Temps</th>\n",
       "    </tr>\n",
       "  </thead>\n",
       "  <tbody>\n",
       "    <tr>\n",
       "      <th>count</th>\n",
       "      <td>1517.00</td>\n",
       "    </tr>\n",
       "    <tr>\n",
       "      <th>mean</th>\n",
       "      <td>71.04</td>\n",
       "    </tr>\n",
       "    <tr>\n",
       "      <th>std</th>\n",
       "      <td>3.75</td>\n",
       "    </tr>\n",
       "    <tr>\n",
       "      <th>min</th>\n",
       "      <td>56.00</td>\n",
       "    </tr>\n",
       "    <tr>\n",
       "      <th>25%</th>\n",
       "      <td>69.00</td>\n",
       "    </tr>\n",
       "    <tr>\n",
       "      <th>50%</th>\n",
       "      <td>71.00</td>\n",
       "    </tr>\n",
       "    <tr>\n",
       "      <th>75%</th>\n",
       "      <td>74.00</td>\n",
       "    </tr>\n",
       "    <tr>\n",
       "      <th>max</th>\n",
       "      <td>83.00</td>\n",
       "    </tr>\n",
       "  </tbody>\n",
       "</table>\n",
       "</div>"
      ],
      "text/plain": [
       "       December Temps\n",
       "count         1517.00\n",
       "mean            71.04\n",
       "std              3.75\n",
       "min             56.00\n",
       "25%             69.00\n",
       "50%             71.00\n",
       "75%             74.00\n",
       "max             83.00"
      ]
     },
     "execution_count": 11,
     "metadata": {},
     "output_type": "execute_result"
    }
   ],
   "source": [
    "# 9. Calculate and print out the summary statistics for the Decemeber temperature DataFrame.\n",
    "Dec_temps_df.describe().round(2)"
   ]
  },
  {
   "cell_type": "code",
   "execution_count": 12,
   "metadata": {},
   "outputs": [],
   "source": [
    "June_precip = session.query(Measurement.prcp).filter(Measurement.prcp).\\\n",
    "    filter(func.strftime(\"%m\", Measurement.date) == \"06\").all()"
   ]
  },
  {
   "cell_type": "code",
   "execution_count": 13,
   "metadata": {},
   "outputs": [],
   "source": [
    "Dec_precip = session.query(Measurement.prcp).filter(Measurement.prcp).\\\n",
    "    filter(func.strftime(\"%m\", Measurement.date) == \"12\").all()"
   ]
  },
  {
   "cell_type": "code",
   "execution_count": 14,
   "metadata": {},
   "outputs": [],
   "source": [
    "June_precip = list(np.ravel(June_precip))\n",
    "Dec_precip = list(np.ravel(Dec_precip))"
   ]
  },
  {
   "cell_type": "code",
   "execution_count": 15,
   "metadata": {},
   "outputs": [],
   "source": [
    "June_precp_df = pd.DataFrame(June_precip, columns=['June Precip'])"
   ]
  },
  {
   "cell_type": "code",
   "execution_count": 16,
   "metadata": {},
   "outputs": [],
   "source": [
    "Dec_precip_df = pd.DataFrame(Dec_precip, columns=['December Precip'])"
   ]
  },
  {
   "cell_type": "code",
   "execution_count": 17,
   "metadata": {},
   "outputs": [
    {
     "data": {
      "text/html": [
       "<div>\n",
       "<style scoped>\n",
       "    .dataframe tbody tr th:only-of-type {\n",
       "        vertical-align: middle;\n",
       "    }\n",
       "\n",
       "    .dataframe tbody tr th {\n",
       "        vertical-align: top;\n",
       "    }\n",
       "\n",
       "    .dataframe thead th {\n",
       "        text-align: right;\n",
       "    }\n",
       "</style>\n",
       "<table border=\"1\" class=\"dataframe\">\n",
       "  <thead>\n",
       "    <tr style=\"text-align: right;\">\n",
       "      <th></th>\n",
       "      <th>June Precip</th>\n",
       "    </tr>\n",
       "  </thead>\n",
       "  <tbody>\n",
       "    <tr>\n",
       "      <th>count</th>\n",
       "      <td>927.000000</td>\n",
       "    </tr>\n",
       "    <tr>\n",
       "      <th>mean</th>\n",
       "      <td>0.231532</td>\n",
       "    </tr>\n",
       "    <tr>\n",
       "      <th>std</th>\n",
       "      <td>0.411596</td>\n",
       "    </tr>\n",
       "    <tr>\n",
       "      <th>min</th>\n",
       "      <td>0.010000</td>\n",
       "    </tr>\n",
       "    <tr>\n",
       "      <th>25%</th>\n",
       "      <td>0.030000</td>\n",
       "    </tr>\n",
       "    <tr>\n",
       "      <th>50%</th>\n",
       "      <td>0.090000</td>\n",
       "    </tr>\n",
       "    <tr>\n",
       "      <th>75%</th>\n",
       "      <td>0.240000</td>\n",
       "    </tr>\n",
       "    <tr>\n",
       "      <th>max</th>\n",
       "      <td>4.430000</td>\n",
       "    </tr>\n",
       "  </tbody>\n",
       "</table>\n",
       "</div>"
      ],
      "text/plain": [
       "       June Precip\n",
       "count   927.000000\n",
       "mean      0.231532\n",
       "std       0.411596\n",
       "min       0.010000\n",
       "25%       0.030000\n",
       "50%       0.090000\n",
       "75%       0.240000\n",
       "max       4.430000"
      ]
     },
     "execution_count": 17,
     "metadata": {},
     "output_type": "execute_result"
    }
   ],
   "source": [
    "June_precp_df.describe()"
   ]
  },
  {
   "cell_type": "code",
   "execution_count": 18,
   "metadata": {},
   "outputs": [
    {
     "data": {
      "text/html": [
       "<div>\n",
       "<style scoped>\n",
       "    .dataframe tbody tr th:only-of-type {\n",
       "        vertical-align: middle;\n",
       "    }\n",
       "\n",
       "    .dataframe tbody tr th {\n",
       "        vertical-align: top;\n",
       "    }\n",
       "\n",
       "    .dataframe thead th {\n",
       "        text-align: right;\n",
       "    }\n",
       "</style>\n",
       "<table border=\"1\" class=\"dataframe\">\n",
       "  <thead>\n",
       "    <tr style=\"text-align: right;\">\n",
       "      <th></th>\n",
       "      <th>December Precip</th>\n",
       "    </tr>\n",
       "  </thead>\n",
       "  <tbody>\n",
       "    <tr>\n",
       "      <th>count</th>\n",
       "      <td>895.000000</td>\n",
       "    </tr>\n",
       "    <tr>\n",
       "      <th>mean</th>\n",
       "      <td>0.340369</td>\n",
       "    </tr>\n",
       "    <tr>\n",
       "      <th>std</th>\n",
       "      <td>0.646704</td>\n",
       "    </tr>\n",
       "    <tr>\n",
       "      <th>min</th>\n",
       "      <td>0.010000</td>\n",
       "    </tr>\n",
       "    <tr>\n",
       "      <th>25%</th>\n",
       "      <td>0.030000</td>\n",
       "    </tr>\n",
       "    <tr>\n",
       "      <th>50%</th>\n",
       "      <td>0.100000</td>\n",
       "    </tr>\n",
       "    <tr>\n",
       "      <th>75%</th>\n",
       "      <td>0.330000</td>\n",
       "    </tr>\n",
       "    <tr>\n",
       "      <th>max</th>\n",
       "      <td>6.420000</td>\n",
       "    </tr>\n",
       "  </tbody>\n",
       "</table>\n",
       "</div>"
      ],
      "text/plain": [
       "       December Precip\n",
       "count       895.000000\n",
       "mean          0.340369\n",
       "std           0.646704\n",
       "min           0.010000\n",
       "25%           0.030000\n",
       "50%           0.100000\n",
       "75%           0.330000\n",
       "max           6.420000"
      ]
     },
     "execution_count": 18,
     "metadata": {},
     "output_type": "execute_result"
    }
   ],
   "source": [
    "Dec_precip_df.describe()"
   ]
  },
  {
   "cell_type": "code",
   "execution_count": 19,
   "metadata": {},
   "outputs": [],
   "source": [
    "All_temps = session.query(Measurement.tobs).filter(Measurement.tobs).all()"
   ]
  },
  {
   "cell_type": "code",
   "execution_count": 20,
   "metadata": {},
   "outputs": [],
   "source": [
    "All_temps =  list(np.ravel(All_temps))"
   ]
  },
  {
   "cell_type": "code",
   "execution_count": 21,
   "metadata": {},
   "outputs": [],
   "source": [
    "All_temps = pd.DataFrame(All_temps, columns=['Temp'])"
   ]
  },
  {
   "cell_type": "code",
   "execution_count": 22,
   "metadata": {},
   "outputs": [
    {
     "data": {
      "text/html": [
       "<div>\n",
       "<style scoped>\n",
       "    .dataframe tbody tr th:only-of-type {\n",
       "        vertical-align: middle;\n",
       "    }\n",
       "\n",
       "    .dataframe tbody tr th {\n",
       "        vertical-align: top;\n",
       "    }\n",
       "\n",
       "    .dataframe thead th {\n",
       "        text-align: right;\n",
       "    }\n",
       "</style>\n",
       "<table border=\"1\" class=\"dataframe\">\n",
       "  <thead>\n",
       "    <tr style=\"text-align: right;\">\n",
       "      <th></th>\n",
       "      <th>Temp</th>\n",
       "    </tr>\n",
       "  </thead>\n",
       "  <tbody>\n",
       "    <tr>\n",
       "      <th>count</th>\n",
       "      <td>19550.00</td>\n",
       "    </tr>\n",
       "    <tr>\n",
       "      <th>mean</th>\n",
       "      <td>73.10</td>\n",
       "    </tr>\n",
       "    <tr>\n",
       "      <th>std</th>\n",
       "      <td>4.52</td>\n",
       "    </tr>\n",
       "    <tr>\n",
       "      <th>min</th>\n",
       "      <td>53.00</td>\n",
       "    </tr>\n",
       "    <tr>\n",
       "      <th>25%</th>\n",
       "      <td>70.00</td>\n",
       "    </tr>\n",
       "    <tr>\n",
       "      <th>50%</th>\n",
       "      <td>73.00</td>\n",
       "    </tr>\n",
       "    <tr>\n",
       "      <th>75%</th>\n",
       "      <td>76.00</td>\n",
       "    </tr>\n",
       "    <tr>\n",
       "      <th>max</th>\n",
       "      <td>87.00</td>\n",
       "    </tr>\n",
       "  </tbody>\n",
       "</table>\n",
       "</div>"
      ],
      "text/plain": [
       "           Temp\n",
       "count  19550.00\n",
       "mean      73.10\n",
       "std        4.52\n",
       "min       53.00\n",
       "25%       70.00\n",
       "50%       73.00\n",
       "75%       76.00\n",
       "max       87.00"
      ]
     },
     "execution_count": 22,
     "metadata": {},
     "output_type": "execute_result"
    }
   ],
   "source": [
    "All_temps.describe().round(2)"
   ]
  },
  {
   "cell_type": "code",
   "execution_count": 23,
   "metadata": {},
   "outputs": [],
   "source": [
    "Jan_temp = session.query(Measurement.tobs).filter(Measurement.tobs).\\\n",
    "    filter(func.strftime(\"%m\", Measurement.date) == \"01\").all()\n",
    "    \n",
    "Jan_temp = list(np.ravel(Jan_temp))"
   ]
  },
  {
   "cell_type": "code",
   "execution_count": 24,
   "metadata": {},
   "outputs": [],
   "source": [
    "Jan_temp = pd.DataFrame(Jan_temp, columns=['Jan Temps'])\n"
   ]
  },
  {
   "cell_type": "code",
   "execution_count": 25,
   "metadata": {},
   "outputs": [],
   "source": [
    "Feb_temp = session.query(Measurement.tobs).filter(Measurement.tobs).\\\n",
    "    filter(func.strftime(\"%m\", Measurement.date) == \"02\").all()\n",
    "    \n",
    "Feb_temp = list(np.ravel(Feb_temp))\n",
    "\n",
    "Feb_temp = pd.DataFrame(Feb_temp, columns=['Feb Temps'])"
   ]
  },
  {
   "cell_type": "code",
   "execution_count": 26,
   "metadata": {},
   "outputs": [],
   "source": [
    "Mar_temp = session.query(Measurement.tobs).filter(Measurement.tobs).\\\n",
    "    filter(func.strftime(\"%m\", Measurement.date) == \"03\").all()\n",
    "    \n",
    "Mar_temp = list(np.ravel(Mar_temp))\n",
    "\n",
    "Mar_temp = pd.DataFrame(Mar_temp, columns=['Mar Temps'])\n"
   ]
  },
  {
   "cell_type": "code",
   "execution_count": 27,
   "metadata": {},
   "outputs": [],
   "source": [
    "Apr_temp = session.query(Measurement.tobs).filter(Measurement.tobs).\\\n",
    "    filter(func.strftime(\"%m\", Measurement.date) == \"04\").all()\n",
    "    \n",
    "Apr_temp = list(np.ravel(Apr_temp))\n",
    "\n",
    "Apr_temp = pd.DataFrame(Apr_temp, columns=['Apr Temps'])\n",
    "\n",
    "May_temp = session.query(Measurement.tobs).filter(Measurement.tobs).\\\n",
    "    filter(func.strftime(\"%m\", Measurement.date) == \"05\").all()\n",
    "    \n",
    "May_temp = list(np.ravel(May_temp))\n",
    "\n",
    "May_temp = pd.DataFrame(May_temp, columns=['May Temps'])\n",
    "\n",
    "Jul_temp = session.query(Measurement.tobs).filter(Measurement.tobs).\\\n",
    "    filter(func.strftime(\"%m\", Measurement.date) == \"07\").all()\n",
    "    \n",
    "Jul_temp = list(np.ravel(Jul_temp))\n",
    "\n",
    "Jul_temp = pd.DataFrame(Jul_temp, columns=['July Temps'])\n",
    "\n",
    "Aug_temp = session.query(Measurement.tobs).filter(Measurement.tobs).\\\n",
    "    filter(func.strftime(\"%m\", Measurement.date) == \"08\").all()\n",
    "    \n",
    "Aug_temp = list(np.ravel(Aug_temp))\n",
    "\n",
    "Aug_temp = pd.DataFrame(Aug_temp, columns=['Aug Temps'])\n",
    "\n",
    "Sept_temp = session.query(Measurement.tobs).filter(Measurement.tobs).\\\n",
    "    filter(func.strftime(\"%m\", Measurement.date) == \"09\").all()\n",
    "    \n",
    "Sept_temp = list(np.ravel(Sept_temp))\n",
    "\n",
    "Sept_temp = pd.DataFrame(Sept_temp, columns=['Sept Temps'])\n",
    "\n",
    "Oct_temp = session.query(Measurement.tobs).filter(Measurement.tobs).\\\n",
    "    filter(func.strftime(\"%m\", Measurement.date) == \"10\").all()\n",
    "    \n",
    "Oct_temp = list(np.ravel(Oct_temp))\n",
    "\n",
    "Oct_temp = pd.DataFrame(Oct_temp, columns=['Oct Temps'])\n",
    "\n",
    "Nov_temp = session.query(Measurement.tobs).filter(Measurement.tobs).\\\n",
    "    filter(func.strftime(\"%m\", Measurement.date) == \"11\").all()\n",
    "    \n",
    "Nov_temp = list(np.ravel(Nov_temp))\n",
    "\n",
    "Nov_temp = pd.DataFrame(Nov_temp, columns=['Nov Temps'])\n"
   ]
  },
  {
   "cell_type": "code",
   "execution_count": 28,
   "metadata": {},
   "outputs": [],
   "source": [
    "Temp_summary = pd.merge(Jan_temp.describe().round(2), Feb_temp.describe().round(2), left_index=True, right_index=True, suffixes=('', '2'))\n",
    "Temp_summary = pd.merge(Temp_summary, Mar_temp.describe().round(2), left_index=True, right_index=True, suffixes=('', '2'))\n",
    "Temp_summary = pd.merge(Temp_summary, Apr_temp.describe().round(2) , left_index=True, right_index=True, suffixes=('', '2'))\n",
    "Temp_summary = pd.merge(Temp_summary,May_temp.describe().round(2) , left_index=True, right_index=True, suffixes=('', '2'))\n",
    "Temp_summary = pd.merge(Temp_summary,June_temps_df.describe().round(2) , left_index=True, right_index=True, suffixes=('', '2'))\n",
    "Temp_summary = pd.merge(Temp_summary,Jul_temp.describe().round(2) , left_index=True, right_index=True, suffixes=('', '2'))\n",
    "Temp_summary = pd.merge(Temp_summary, Aug_temp.describe().round(2), left_index=True, right_index=True, suffixes=('', '2'))\n",
    "Temp_summary = pd.merge(Temp_summary,Sept_temp.describe().round(2) , left_index=True, right_index=True, suffixes=('', '2'))\n",
    "Temp_summary = pd.merge(Temp_summary, Oct_temp.describe().round(2) , left_index=True, right_index=True, suffixes=('', '2'))\n",
    "Temp_summary = pd.merge(Temp_summary, Nov_temp.describe().round(2), left_index=True, right_index=True, suffixes=('', '2'))\n",
    "Temp_summary = pd.merge(Temp_summary, Dec_temps_df.describe().round(2) , left_index=True, right_index=True, suffixes=('', '2'))"
   ]
  },
  {
   "cell_type": "code",
   "execution_count": 29,
   "metadata": {},
   "outputs": [
    {
     "data": {
      "text/html": [
       "<div>\n",
       "<style scoped>\n",
       "    .dataframe tbody tr th:only-of-type {\n",
       "        vertical-align: middle;\n",
       "    }\n",
       "\n",
       "    .dataframe tbody tr th {\n",
       "        vertical-align: top;\n",
       "    }\n",
       "\n",
       "    .dataframe thead th {\n",
       "        text-align: right;\n",
       "    }\n",
       "</style>\n",
       "<table border=\"1\" class=\"dataframe\">\n",
       "  <thead>\n",
       "    <tr style=\"text-align: right;\">\n",
       "      <th></th>\n",
       "      <th>Jan Temps</th>\n",
       "      <th>Feb Temps</th>\n",
       "      <th>Mar Temps</th>\n",
       "      <th>Apr Temps</th>\n",
       "      <th>May Temps</th>\n",
       "      <th>June Temps</th>\n",
       "      <th>July Temps</th>\n",
       "      <th>Aug Temps</th>\n",
       "      <th>Sept Temps</th>\n",
       "      <th>Oct Temps</th>\n",
       "      <th>Nov Temps</th>\n",
       "      <th>December Temps</th>\n",
       "    </tr>\n",
       "  </thead>\n",
       "  <tbody>\n",
       "    <tr>\n",
       "      <th>count</th>\n",
       "      <td>1727.00</td>\n",
       "      <td>1610.00</td>\n",
       "      <td>1693.00</td>\n",
       "      <td>1713.00</td>\n",
       "      <td>1733.00</td>\n",
       "      <td>1700.00</td>\n",
       "      <td>1711.00</td>\n",
       "      <td>1622.00</td>\n",
       "      <td>1480.00</td>\n",
       "      <td>1556.00</td>\n",
       "      <td>1488.00</td>\n",
       "      <td>1517.00</td>\n",
       "    </tr>\n",
       "    <tr>\n",
       "      <th>mean</th>\n",
       "      <td>68.73</td>\n",
       "      <td>69.44</td>\n",
       "      <td>70.06</td>\n",
       "      <td>72.36</td>\n",
       "      <td>73.68</td>\n",
       "      <td>74.94</td>\n",
       "      <td>76.08</td>\n",
       "      <td>76.41</td>\n",
       "      <td>76.16</td>\n",
       "      <td>75.39</td>\n",
       "      <td>73.25</td>\n",
       "      <td>71.04</td>\n",
       "    </tr>\n",
       "    <tr>\n",
       "      <th>std</th>\n",
       "      <td>4.37</td>\n",
       "      <td>3.98</td>\n",
       "      <td>3.85</td>\n",
       "      <td>3.63</td>\n",
       "      <td>3.36</td>\n",
       "      <td>3.26</td>\n",
       "      <td>3.36</td>\n",
       "      <td>3.45</td>\n",
       "      <td>3.54</td>\n",
       "      <td>3.55</td>\n",
       "      <td>3.62</td>\n",
       "      <td>3.75</td>\n",
       "    </tr>\n",
       "    <tr>\n",
       "      <th>min</th>\n",
       "      <td>54.00</td>\n",
       "      <td>56.00</td>\n",
       "      <td>56.00</td>\n",
       "      <td>53.00</td>\n",
       "      <td>63.00</td>\n",
       "      <td>64.00</td>\n",
       "      <td>61.00</td>\n",
       "      <td>65.00</td>\n",
       "      <td>64.00</td>\n",
       "      <td>64.00</td>\n",
       "      <td>61.00</td>\n",
       "      <td>56.00</td>\n",
       "    </tr>\n",
       "    <tr>\n",
       "      <th>25%</th>\n",
       "      <td>66.00</td>\n",
       "      <td>67.00</td>\n",
       "      <td>68.00</td>\n",
       "      <td>70.00</td>\n",
       "      <td>71.00</td>\n",
       "      <td>73.00</td>\n",
       "      <td>74.00</td>\n",
       "      <td>74.00</td>\n",
       "      <td>74.00</td>\n",
       "      <td>73.00</td>\n",
       "      <td>71.00</td>\n",
       "      <td>69.00</td>\n",
       "    </tr>\n",
       "    <tr>\n",
       "      <th>50%</th>\n",
       "      <td>69.00</td>\n",
       "      <td>70.00</td>\n",
       "      <td>70.00</td>\n",
       "      <td>73.00</td>\n",
       "      <td>74.00</td>\n",
       "      <td>75.00</td>\n",
       "      <td>76.00</td>\n",
       "      <td>76.00</td>\n",
       "      <td>76.00</td>\n",
       "      <td>76.00</td>\n",
       "      <td>74.00</td>\n",
       "      <td>71.00</td>\n",
       "    </tr>\n",
       "    <tr>\n",
       "      <th>75%</th>\n",
       "      <td>72.00</td>\n",
       "      <td>72.00</td>\n",
       "      <td>73.00</td>\n",
       "      <td>75.00</td>\n",
       "      <td>76.00</td>\n",
       "      <td>77.00</td>\n",
       "      <td>78.00</td>\n",
       "      <td>79.00</td>\n",
       "      <td>79.00</td>\n",
       "      <td>78.00</td>\n",
       "      <td>76.00</td>\n",
       "      <td>74.00</td>\n",
       "    </tr>\n",
       "    <tr>\n",
       "      <th>max</th>\n",
       "      <td>81.00</td>\n",
       "      <td>83.00</td>\n",
       "      <td>82.00</td>\n",
       "      <td>84.00</td>\n",
       "      <td>87.00</td>\n",
       "      <td>85.00</td>\n",
       "      <td>87.00</td>\n",
       "      <td>87.00</td>\n",
       "      <td>87.00</td>\n",
       "      <td>86.00</td>\n",
       "      <td>83.00</td>\n",
       "      <td>83.00</td>\n",
       "    </tr>\n",
       "  </tbody>\n",
       "</table>\n",
       "</div>"
      ],
      "text/plain": [
       "       Jan Temps  Feb Temps  Mar Temps  Apr Temps  May Temps  June Temps  \\\n",
       "count    1727.00    1610.00    1693.00    1713.00    1733.00     1700.00   \n",
       "mean       68.73      69.44      70.06      72.36      73.68       74.94   \n",
       "std         4.37       3.98       3.85       3.63       3.36        3.26   \n",
       "min        54.00      56.00      56.00      53.00      63.00       64.00   \n",
       "25%        66.00      67.00      68.00      70.00      71.00       73.00   \n",
       "50%        69.00      70.00      70.00      73.00      74.00       75.00   \n",
       "75%        72.00      72.00      73.00      75.00      76.00       77.00   \n",
       "max        81.00      83.00      82.00      84.00      87.00       85.00   \n",
       "\n",
       "       July Temps  Aug Temps  Sept Temps  Oct Temps  Nov Temps  December Temps  \n",
       "count     1711.00    1622.00     1480.00    1556.00    1488.00         1517.00  \n",
       "mean        76.08      76.41       76.16      75.39      73.25           71.04  \n",
       "std          3.36       3.45        3.54       3.55       3.62            3.75  \n",
       "min         61.00      65.00       64.00      64.00      61.00           56.00  \n",
       "25%         74.00      74.00       74.00      73.00      71.00           69.00  \n",
       "50%         76.00      76.00       76.00      76.00      74.00           71.00  \n",
       "75%         78.00      79.00       79.00      78.00      76.00           74.00  \n",
       "max         87.00      87.00       87.00      86.00      83.00           83.00  "
      ]
     },
     "execution_count": 29,
     "metadata": {},
     "output_type": "execute_result"
    }
   ],
   "source": [
    "Temp_summary"
   ]
  },
  {
   "cell_type": "code",
   "execution_count": 30,
   "metadata": {},
   "outputs": [
    {
     "data": {
      "text/plain": [
       "Jan Temps         68.73\n",
       "Feb Temps         69.44\n",
       "Mar Temps         70.06\n",
       "Apr Temps         72.36\n",
       "May Temps         73.68\n",
       "June Temps        74.94\n",
       "July Temps        76.08\n",
       "Aug Temps         76.41\n",
       "Sept Temps        76.16\n",
       "Oct Temps         75.39\n",
       "Nov Temps         73.25\n",
       "December Temps    71.04\n",
       "Name: mean, dtype: float64"
      ]
     },
     "execution_count": 30,
     "metadata": {},
     "output_type": "execute_result"
    }
   ],
   "source": [
    "Mean_temps = Temp_summary.iloc[1]\n",
    "Mean_temps"
   ]
  },
  {
   "cell_type": "code",
   "execution_count": 31,
   "metadata": {},
   "outputs": [
    {
     "name": "stdout",
     "output_type": "stream",
     "text": [
      "Jan Temps         81.0\n",
      "Feb Temps         83.0\n",
      "Mar Temps         82.0\n",
      "Apr Temps         84.0\n",
      "May Temps         87.0\n",
      "June Temps        85.0\n",
      "July Temps        87.0\n",
      "Aug Temps         87.0\n",
      "Sept Temps        87.0\n",
      "Oct Temps         86.0\n",
      "Nov Temps         83.0\n",
      "December Temps    83.0\n",
      "Name: max, dtype: float64\n",
      "Jan Temps         54.0\n",
      "Feb Temps         56.0\n",
      "Mar Temps         56.0\n",
      "Apr Temps         53.0\n",
      "May Temps         63.0\n",
      "June Temps        64.0\n",
      "July Temps        61.0\n",
      "Aug Temps         65.0\n",
      "Sept Temps        64.0\n",
      "Oct Temps         64.0\n",
      "Nov Temps         61.0\n",
      "December Temps    56.0\n",
      "Name: min, dtype: float64\n"
     ]
    }
   ],
   "source": [
    "Max_temps = Temp_summary.iloc[-1]\n",
    "\n",
    "Min_temps = Temp_summary.iloc[3]\n"
   ]
  },
  {
   "cell_type": "code",
   "execution_count": 32,
   "metadata": {},
   "outputs": [],
   "source": [
    "Columns = [\"Jan\", \"Feb\", \"Mar\", \"April\", \"May\", \"June\", \"July\", \"Aug\", \"Sept\", \"Oct\", \"Nov\", \"Dec\"]"
   ]
  },
  {
   "cell_type": "code",
   "execution_count": 33,
   "metadata": {},
   "outputs": [
    {
     "data": {
      "text/plain": [
       "<matplotlib.legend.Legend at 0x174ea653730>"
      ]
     },
     "execution_count": 33,
     "metadata": {},
     "output_type": "execute_result"
    },
    {
     "data": {
      "image/png": "[encoded data removed]",
      "text/plain": [
       "<Figure size 720x576 with 1 Axes>"
      ]
     },
     "metadata": {
      "needs_background": "light"
     },
     "output_type": "display_data"
    }
   ],
   "source": [
    "from matplotlib.ticker import MultipleLocator\n",
    "fig, ax = plt.subplots(figsize=(10,8))\n",
    "\n",
    "ax.plot(Columns, Mean_temps, color='blue', label='Mean Temp')\n",
    "ax.plot(Columns, Min_temps, color='green', label='Min Temp')\n",
    "ax.plot(Columns, Max_temps, color='red', label='Max Temp')\n",
    "plt.xlabel('Month')\n",
    "plt.ylabel('Temp F')\n",
    "plt.title('Monthly Temps')\n",
    "plt.grid()\n",
    "plt.legend()"
   ]
  },
  {
   "cell_type": "code",
   "execution_count": 34,
   "metadata": {},
   "outputs": [],
   "source": [
    "Mean_temps = pd.DataFrame(Mean_temps)"
   ]
  },
  {
   "cell_type": "code",
   "execution_count": 35,
   "metadata": {},
   "outputs": [
    {
     "data": {
      "text/html": [
       "<div>\n",
       "<style scoped>\n",
       "    .dataframe tbody tr th:only-of-type {\n",
       "        vertical-align: middle;\n",
       "    }\n",
       "\n",
       "    .dataframe tbody tr th {\n",
       "        vertical-align: top;\n",
       "    }\n",
       "\n",
       "    .dataframe thead th {\n",
       "        text-align: right;\n",
       "    }\n",
       "</style>\n",
       "<table border=\"1\" class=\"dataframe\">\n",
       "  <thead>\n",
       "    <tr style=\"text-align: right;\">\n",
       "      <th></th>\n",
       "      <th>mean</th>\n",
       "    </tr>\n",
       "  </thead>\n",
       "  <tbody>\n",
       "    <tr>\n",
       "      <th>count</th>\n",
       "      <td>12.000000</td>\n",
       "    </tr>\n",
       "    <tr>\n",
       "      <th>mean</th>\n",
       "      <td>73.128333</td>\n",
       "    </tr>\n",
       "    <tr>\n",
       "      <th>std</th>\n",
       "      <td>2.774959</td>\n",
       "    </tr>\n",
       "    <tr>\n",
       "      <th>min</th>\n",
       "      <td>68.730000</td>\n",
       "    </tr>\n",
       "    <tr>\n",
       "      <th>25%</th>\n",
       "      <td>70.795000</td>\n",
       "    </tr>\n",
       "    <tr>\n",
       "      <th>50%</th>\n",
       "      <td>73.465000</td>\n",
       "    </tr>\n",
       "    <tr>\n",
       "      <th>75%</th>\n",
       "      <td>75.562500</td>\n",
       "    </tr>\n",
       "    <tr>\n",
       "      <th>max</th>\n",
       "      <td>76.410000</td>\n",
       "    </tr>\n",
       "  </tbody>\n",
       "</table>\n",
       "</div>"
      ],
      "text/plain": [
       "            mean\n",
       "count  12.000000\n",
       "mean   73.128333\n",
       "std     2.774959\n",
       "min    68.730000\n",
       "25%    70.795000\n",
       "50%    73.465000\n",
       "75%    75.562500\n",
       "max    76.410000"
      ]
     },
     "execution_count": 35,
     "metadata": {},
     "output_type": "execute_result"
    }
   ],
   "source": [
    "Mean_temps.describe()"
   ]
  },
  {
   "cell_type": "code",
   "execution_count": 36,
   "metadata": {},
   "outputs": [],
   "source": [
    "Max_temps = pd.DataFrame(Max_temps)"
   ]
  },
  {
   "cell_type": "code",
   "execution_count": 37,
   "metadata": {},
   "outputs": [],
   "source": [
    "Min_temps = pd.DataFrame(Min_temps)"
   ]
  },
  {
   "cell_type": "code",
   "execution_count": 38,
   "metadata": {},
   "outputs": [],
   "source": [
    "Temp_info = pd.merge(Mean_temps.describe().round(2), Min_temps.describe().round(2), left_index=True, right_index=True, suffixes=('', '2'))\n",
    "Temp_info = pd.merge(Temp_info, Max_temps.describe().round(2), left_index=True, right_index=True, suffixes=('', '2'))"
   ]
  },
  {
   "cell_type": "code",
   "execution_count": 39,
   "metadata": {},
   "outputs": [
    {
     "data": {
      "text/html": [
       "<div>\n",
       "<style scoped>\n",
       "    .dataframe tbody tr th:only-of-type {\n",
       "        vertical-align: middle;\n",
       "    }\n",
       "\n",
       "    .dataframe tbody tr th {\n",
       "        vertical-align: top;\n",
       "    }\n",
       "\n",
       "    .dataframe thead th {\n",
       "        text-align: right;\n",
       "    }\n",
       "</style>\n",
       "<table border=\"1\" class=\"dataframe\">\n",
       "  <thead>\n",
       "    <tr style=\"text-align: right;\">\n",
       "      <th></th>\n",
       "      <th>mean</th>\n",
       "      <th>min</th>\n",
       "      <th>max</th>\n",
       "    </tr>\n",
       "  </thead>\n",
       "  <tbody>\n",
       "    <tr>\n",
       "      <th>count</th>\n",
       "      <td>12.00</td>\n",
       "      <td>12.00</td>\n",
       "      <td>12.00</td>\n",
       "    </tr>\n",
       "    <tr>\n",
       "      <th>mean</th>\n",
       "      <td>73.13</td>\n",
       "      <td>59.75</td>\n",
       "      <td>84.58</td>\n",
       "    </tr>\n",
       "    <tr>\n",
       "      <th>std</th>\n",
       "      <td>2.77</td>\n",
       "      <td>4.43</td>\n",
       "      <td>2.19</td>\n",
       "    </tr>\n",
       "    <tr>\n",
       "      <th>min</th>\n",
       "      <td>68.73</td>\n",
       "      <td>53.00</td>\n",
       "      <td>81.00</td>\n",
       "    </tr>\n",
       "    <tr>\n",
       "      <th>25%</th>\n",
       "      <td>70.80</td>\n",
       "      <td>56.00</td>\n",
       "      <td>83.00</td>\n",
       "    </tr>\n",
       "    <tr>\n",
       "      <th>50%</th>\n",
       "      <td>73.46</td>\n",
       "      <td>61.00</td>\n",
       "      <td>84.50</td>\n",
       "    </tr>\n",
       "    <tr>\n",
       "      <th>75%</th>\n",
       "      <td>75.56</td>\n",
       "      <td>64.00</td>\n",
       "      <td>87.00</td>\n",
       "    </tr>\n",
       "    <tr>\n",
       "      <th>max</th>\n",
       "      <td>76.41</td>\n",
       "      <td>65.00</td>\n",
       "      <td>87.00</td>\n",
       "    </tr>\n",
       "  </tbody>\n",
       "</table>\n",
       "</div>"
      ],
      "text/plain": [
       "        mean    min    max\n",
       "count  12.00  12.00  12.00\n",
       "mean   73.13  59.75  84.58\n",
       "std     2.77   4.43   2.19\n",
       "min    68.73  53.00  81.00\n",
       "25%    70.80  56.00  83.00\n",
       "50%    73.46  61.00  84.50\n",
       "75%    75.56  64.00  87.00\n",
       "max    76.41  65.00  87.00"
      ]
     },
     "execution_count": 39,
     "metadata": {},
     "output_type": "execute_result"
    }
   ],
   "source": [
    "Temp_info"
   ]
  },
  {
   "cell_type": "code",
   "execution_count": null,
   "metadata": {},
   "outputs": [],
   "source": []
  }
 ],
 "metadata": {
  "interpreter": {
   "hash": "0e0afc60f7a020ca72f62761e1f396fb68d7995ef50c0b1b9f9247c0eeefc18d"
  },
  "kernelspec": {
   "display_name": "Python 3 (ipykernel)",
   "language": "python",
   "name": "python3"
  },
  "language_info": {
   "codemirror_mode": {
    "name": "ipython",
    "version": 3
   },
   "file_extension": ".py",
   "mimetype": "text/x-python",
   "name": "python",
   "nbconvert_exporter": "python",
   "pygments_lexer": "ipython3",
   "version": "3.9.7"
  }
 },
 "nbformat": 4,
 "nbformat_minor": 2
}
